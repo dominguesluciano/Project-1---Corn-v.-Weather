{
 "cells": [
  {
   "cell_type": "code",
   "execution_count": 1,
   "metadata": {
    "ExecuteTime": {
     "end_time": "2020-01-18T17:07:04.247841Z",
     "start_time": "2020-01-18T17:07:02.941884Z"
    }
   },
   "outputs": [],
   "source": [
    "import pandas as pd\n",
    "import numpy as np\n",
    "import os\n",
    "import matplotlib.pyplot as plt\n"
   ]
  },
  {
   "cell_type": "code",
   "execution_count": 2,
   "metadata": {
    "ExecuteTime": {
     "end_time": "2020-01-18T17:07:04.259899Z",
     "start_time": "2020-01-18T17:07:04.251745Z"
    }
   },
   "outputs": [],
   "source": [
    "# geobase = \"../Project-1---Corn-v.-Weather/us-zip-code-latitude-and-longitude.csv\"\n",
    "# geobase_df = pd.read_csv(geobase)\n",
    "# geobase_df.head()\n"
   ]
  },
  {
   "cell_type": "code",
   "execution_count": 3,
   "metadata": {
    "ExecuteTime": {
     "end_time": "2020-01-18T17:07:04.271846Z",
     "start_time": "2020-01-18T17:07:04.265225Z"
    },
    "scrolled": false
   },
   "outputs": [],
   "source": [
    "# geobase_df.to_csv(\"../Project-1---Corn-v.-Weather/geobase.csv\")"
   ]
  },
  {
   "cell_type": "code",
   "execution_count": 4,
   "metadata": {
    "ExecuteTime": {
     "end_time": "2020-01-18T17:07:04.323503Z",
     "start_time": "2020-01-18T17:07:04.275381Z"
    }
   },
   "outputs": [
    {
     "data": {
      "text/html": [
       "<div>\n",
       "<style scoped>\n",
       "    .dataframe tbody tr th:only-of-type {\n",
       "        vertical-align: middle;\n",
       "    }\n",
       "\n",
       "    .dataframe tbody tr th {\n",
       "        vertical-align: top;\n",
       "    }\n",
       "\n",
       "    .dataframe thead th {\n",
       "        text-align: right;\n",
       "    }\n",
       "</style>\n",
       "<table border=\"1\" class=\"dataframe\">\n",
       "  <thead>\n",
       "    <tr style=\"text-align: right;\">\n",
       "      <th></th>\n",
       "      <th>STATE</th>\n",
       "      <th>STATION</th>\n",
       "      <th>NAME</th>\n",
       "      <th>LATITUDE</th>\n",
       "      <th>LONGITUDE</th>\n",
       "      <th>ELEVATION</th>\n",
       "      <th>DATE</th>\n",
       "      <th>AWND</th>\n",
       "      <th>PRCP</th>\n",
       "      <th>SNOW</th>\n",
       "      <th>TAVG</th>\n",
       "      <th>TMAX</th>\n",
       "      <th>TMIN</th>\n",
       "    </tr>\n",
       "  </thead>\n",
       "  <tbody>\n",
       "    <tr>\n",
       "      <th>0</th>\n",
       "      <td>IOWA</td>\n",
       "      <td>USC00134561</td>\n",
       "      <td>LAKE PARK, IA US</td>\n",
       "      <td>43.4483</td>\n",
       "      <td>-95.3247</td>\n",
       "      <td>446.5</td>\n",
       "      <td>2016</td>\n",
       "      <td>NaN</td>\n",
       "      <td>33.09</td>\n",
       "      <td>32.4</td>\n",
       "      <td>49.2</td>\n",
       "      <td>59.4</td>\n",
       "      <td>38.9</td>\n",
       "    </tr>\n",
       "    <tr>\n",
       "      <th>1</th>\n",
       "      <td>IOWA</td>\n",
       "      <td>USC00134561</td>\n",
       "      <td>LAKE PARK, IA US</td>\n",
       "      <td>43.4483</td>\n",
       "      <td>-95.3247</td>\n",
       "      <td>446.5</td>\n",
       "      <td>2017</td>\n",
       "      <td>NaN</td>\n",
       "      <td>35.59</td>\n",
       "      <td>28.9</td>\n",
       "      <td>NaN</td>\n",
       "      <td>58.7</td>\n",
       "      <td>NaN</td>\n",
       "    </tr>\n",
       "    <tr>\n",
       "      <th>2</th>\n",
       "      <td>IOWA</td>\n",
       "      <td>USC00133473</td>\n",
       "      <td>GRINNELL 3 SW, IA US</td>\n",
       "      <td>41.7200</td>\n",
       "      <td>-92.7490</td>\n",
       "      <td>275.8</td>\n",
       "      <td>2016</td>\n",
       "      <td>NaN</td>\n",
       "      <td>38.41</td>\n",
       "      <td>20.9</td>\n",
       "      <td>49.8</td>\n",
       "      <td>59.9</td>\n",
       "      <td>39.6</td>\n",
       "    </tr>\n",
       "    <tr>\n",
       "      <th>3</th>\n",
       "      <td>IOWA</td>\n",
       "      <td>USC00133473</td>\n",
       "      <td>GRINNELL 3 SW, IA US</td>\n",
       "      <td>41.7200</td>\n",
       "      <td>-92.7490</td>\n",
       "      <td>275.8</td>\n",
       "      <td>2017</td>\n",
       "      <td>NaN</td>\n",
       "      <td>32.75</td>\n",
       "      <td>13.0</td>\n",
       "      <td>49.0</td>\n",
       "      <td>60.1</td>\n",
       "      <td>37.9</td>\n",
       "    </tr>\n",
       "    <tr>\n",
       "      <th>4</th>\n",
       "      <td>IOWA</td>\n",
       "      <td>USC00138009</td>\n",
       "      <td>STRAWBERRY POINT, IA US</td>\n",
       "      <td>42.6853</td>\n",
       "      <td>-91.5330</td>\n",
       "      <td>365.8</td>\n",
       "      <td>2016</td>\n",
       "      <td>NaN</td>\n",
       "      <td>39.67</td>\n",
       "      <td>34.7</td>\n",
       "      <td>NaN</td>\n",
       "      <td>NaN</td>\n",
       "      <td>NaN</td>\n",
       "    </tr>\n",
       "  </tbody>\n",
       "</table>\n",
       "</div>"
      ],
      "text/plain": [
       "  STATE      STATION                     NAME  LATITUDE  LONGITUDE  ELEVATION  \\\n",
       "0  IOWA  USC00134561         LAKE PARK, IA US   43.4483   -95.3247      446.5   \n",
       "1  IOWA  USC00134561         LAKE PARK, IA US   43.4483   -95.3247      446.5   \n",
       "2  IOWA  USC00133473     GRINNELL 3 SW, IA US   41.7200   -92.7490      275.8   \n",
       "3  IOWA  USC00133473     GRINNELL 3 SW, IA US   41.7200   -92.7490      275.8   \n",
       "4  IOWA  USC00138009  STRAWBERRY POINT, IA US   42.6853   -91.5330      365.8   \n",
       "\n",
       "   DATE  AWND   PRCP  SNOW  TAVG  TMAX  TMIN  \n",
       "0  2016   NaN  33.09  32.4  49.2  59.4  38.9  \n",
       "1  2017   NaN  35.59  28.9   NaN  58.7   NaN  \n",
       "2  2016   NaN  38.41  20.9  49.8  59.9  39.6  \n",
       "3  2017   NaN  32.75  13.0  49.0  60.1  37.9  \n",
       "4  2016   NaN  39.67  34.7   NaN   NaN   NaN  "
      ]
     },
     "execution_count": 4,
     "metadata": {},
     "output_type": "execute_result"
    }
   ],
   "source": [
    "iowa = \"../Project-1---Corn-v.-Weather/Iowa_weather_2016to2018.csv\"\n",
    "iowa_df = pd.read_csv(iowa)\n",
    "iowa_df.head()"
   ]
  },
  {
   "cell_type": "code",
   "execution_count": 5,
   "metadata": {
    "ExecuteTime": {
     "end_time": "2020-01-18T17:07:04.358725Z",
     "start_time": "2020-01-18T17:07:04.325696Z"
    }
   },
   "outputs": [
    {
     "data": {
      "text/html": [
       "<div>\n",
       "<style scoped>\n",
       "    .dataframe tbody tr th:only-of-type {\n",
       "        vertical-align: middle;\n",
       "    }\n",
       "\n",
       "    .dataframe tbody tr th {\n",
       "        vertical-align: top;\n",
       "    }\n",
       "\n",
       "    .dataframe thead th {\n",
       "        text-align: right;\n",
       "    }\n",
       "</style>\n",
       "<table border=\"1\" class=\"dataframe\">\n",
       "  <thead>\n",
       "    <tr style=\"text-align: right;\">\n",
       "      <th></th>\n",
       "      <th>STATE</th>\n",
       "      <th>STATION</th>\n",
       "      <th>NAME</th>\n",
       "      <th>LATITUDE</th>\n",
       "      <th>LONGITUDE</th>\n",
       "      <th>ELEVATION</th>\n",
       "      <th>DATE</th>\n",
       "      <th>AWND</th>\n",
       "      <th>PRCP</th>\n",
       "      <th>SNOW</th>\n",
       "      <th>TAVG</th>\n",
       "      <th>TMAX</th>\n",
       "      <th>TMIN</th>\n",
       "    </tr>\n",
       "  </thead>\n",
       "  <tbody>\n",
       "    <tr>\n",
       "      <th>0</th>\n",
       "      <td>INDIANA</td>\n",
       "      <td>US1INMG0021</td>\n",
       "      <td>MARTINSVILLE 2.3 SE, IN US</td>\n",
       "      <td>39.39605</td>\n",
       "      <td>-86.395617</td>\n",
       "      <td>194.8</td>\n",
       "      <td>2016</td>\n",
       "      <td>NaN</td>\n",
       "      <td>44.81</td>\n",
       "      <td>NaN</td>\n",
       "      <td>NaN</td>\n",
       "      <td>NaN</td>\n",
       "      <td>NaN</td>\n",
       "    </tr>\n",
       "    <tr>\n",
       "      <th>1</th>\n",
       "      <td>INDIANA</td>\n",
       "      <td>USW00014848</td>\n",
       "      <td>SOUTH BEND AIRPORT, IN US</td>\n",
       "      <td>41.70720</td>\n",
       "      <td>-86.316300</td>\n",
       "      <td>235.6</td>\n",
       "      <td>2016</td>\n",
       "      <td>NaN</td>\n",
       "      <td>46.65</td>\n",
       "      <td>84.1</td>\n",
       "      <td>51.2</td>\n",
       "      <td>60.5</td>\n",
       "      <td>41.8</td>\n",
       "    </tr>\n",
       "    <tr>\n",
       "      <th>2</th>\n",
       "      <td>INDIANA</td>\n",
       "      <td>USC00128442</td>\n",
       "      <td>STENDAL, IN US</td>\n",
       "      <td>38.26910</td>\n",
       "      <td>-87.163000</td>\n",
       "      <td>193.5</td>\n",
       "      <td>2016</td>\n",
       "      <td>NaN</td>\n",
       "      <td>52.42</td>\n",
       "      <td>NaN</td>\n",
       "      <td>57.1</td>\n",
       "      <td>66.4</td>\n",
       "      <td>47.8</td>\n",
       "    </tr>\n",
       "    <tr>\n",
       "      <th>3</th>\n",
       "      <td>INDIANA</td>\n",
       "      <td>USC00126023</td>\n",
       "      <td>MUNCIE, IN US</td>\n",
       "      <td>40.18250</td>\n",
       "      <td>-85.349700</td>\n",
       "      <td>294.4</td>\n",
       "      <td>2016</td>\n",
       "      <td>NaN</td>\n",
       "      <td>40.25</td>\n",
       "      <td>15.3</td>\n",
       "      <td>NaN</td>\n",
       "      <td>NaN</td>\n",
       "      <td>NaN</td>\n",
       "    </tr>\n",
       "    <tr>\n",
       "      <th>4</th>\n",
       "      <td>INDIANA</td>\n",
       "      <td>USC00125174</td>\n",
       "      <td>LOWELL, IN US</td>\n",
       "      <td>41.26470</td>\n",
       "      <td>-87.417800</td>\n",
       "      <td>202.7</td>\n",
       "      <td>2016</td>\n",
       "      <td>NaN</td>\n",
       "      <td>46.48</td>\n",
       "      <td>NaN</td>\n",
       "      <td>52.0</td>\n",
       "      <td>61.8</td>\n",
       "      <td>42.1</td>\n",
       "    </tr>\n",
       "  </tbody>\n",
       "</table>\n",
       "</div>"
      ],
      "text/plain": [
       "     STATE      STATION                        NAME  LATITUDE  LONGITUDE  \\\n",
       "0  INDIANA  US1INMG0021  MARTINSVILLE 2.3 SE, IN US  39.39605 -86.395617   \n",
       "1  INDIANA  USW00014848   SOUTH BEND AIRPORT, IN US  41.70720 -86.316300   \n",
       "2  INDIANA  USC00128442              STENDAL, IN US  38.26910 -87.163000   \n",
       "3  INDIANA  USC00126023               MUNCIE, IN US  40.18250 -85.349700   \n",
       "4  INDIANA  USC00125174               LOWELL, IN US  41.26470 -87.417800   \n",
       "\n",
       "   ELEVATION  DATE  AWND   PRCP  SNOW  TAVG  TMAX  TMIN  \n",
       "0      194.8  2016   NaN  44.81   NaN   NaN   NaN   NaN  \n",
       "1      235.6  2016   NaN  46.65  84.1  51.2  60.5  41.8  \n",
       "2      193.5  2016   NaN  52.42   NaN  57.1  66.4  47.8  \n",
       "3      294.4  2016   NaN  40.25  15.3   NaN   NaN   NaN  \n",
       "4      202.7  2016   NaN  46.48   NaN  52.0  61.8  42.1  "
      ]
     },
     "execution_count": 5,
     "metadata": {},
     "output_type": "execute_result"
    }
   ],
   "source": [
    "indiana = \"../Project-1---Corn-v.-Weather/Indiana_weather_2016to2018.csv\"\n",
    "indiana_df = pd.read_csv(indiana)\n",
    "indiana_df.head()"
   ]
  },
  {
   "cell_type": "code",
   "execution_count": 6,
   "metadata": {
    "ExecuteTime": {
     "end_time": "2020-01-18T17:07:04.393049Z",
     "start_time": "2020-01-18T17:07:04.360064Z"
    }
   },
   "outputs": [
    {
     "data": {
      "text/html": [
       "<div>\n",
       "<style scoped>\n",
       "    .dataframe tbody tr th:only-of-type {\n",
       "        vertical-align: middle;\n",
       "    }\n",
       "\n",
       "    .dataframe tbody tr th {\n",
       "        vertical-align: top;\n",
       "    }\n",
       "\n",
       "    .dataframe thead th {\n",
       "        text-align: right;\n",
       "    }\n",
       "</style>\n",
       "<table border=\"1\" class=\"dataframe\">\n",
       "  <thead>\n",
       "    <tr style=\"text-align: right;\">\n",
       "      <th></th>\n",
       "      <th>STATE</th>\n",
       "      <th>STATION</th>\n",
       "      <th>NAME</th>\n",
       "      <th>LATITUDE</th>\n",
       "      <th>LONGITUDE</th>\n",
       "      <th>ELEVATION</th>\n",
       "      <th>DATE</th>\n",
       "      <th>AWND</th>\n",
       "      <th>PRCP</th>\n",
       "      <th>SNOW</th>\n",
       "      <th>TAVG</th>\n",
       "      <th>TMAX</th>\n",
       "      <th>TMIN</th>\n",
       "    </tr>\n",
       "  </thead>\n",
       "  <tbody>\n",
       "    <tr>\n",
       "      <th>0</th>\n",
       "      <td>ILLINOIS</td>\n",
       "      <td>USC00114710</td>\n",
       "      <td>KEWANEE 1 E, IL US</td>\n",
       "      <td>41.242900</td>\n",
       "      <td>-89.899700</td>\n",
       "      <td>237.7</td>\n",
       "      <td>2016</td>\n",
       "      <td>NaN</td>\n",
       "      <td>36.78</td>\n",
       "      <td>21.7</td>\n",
       "      <td>51.1</td>\n",
       "      <td>60.8</td>\n",
       "      <td>41.4</td>\n",
       "    </tr>\n",
       "    <tr>\n",
       "      <th>1</th>\n",
       "      <td>ILLINOIS</td>\n",
       "      <td>US1ILCR0012</td>\n",
       "      <td>MOUNT CARROLL 6.8 NNW, IL US</td>\n",
       "      <td>42.187359</td>\n",
       "      <td>-90.021858</td>\n",
       "      <td>198.7</td>\n",
       "      <td>2016</td>\n",
       "      <td>NaN</td>\n",
       "      <td>39.54</td>\n",
       "      <td>NaN</td>\n",
       "      <td>NaN</td>\n",
       "      <td>NaN</td>\n",
       "      <td>NaN</td>\n",
       "    </tr>\n",
       "    <tr>\n",
       "      <th>2</th>\n",
       "      <td>ILLINOIS</td>\n",
       "      <td>US1ILCR0013</td>\n",
       "      <td>SHANNON 0.2 S, IL US</td>\n",
       "      <td>42.149816</td>\n",
       "      <td>-89.739925</td>\n",
       "      <td>286.5</td>\n",
       "      <td>2016</td>\n",
       "      <td>NaN</td>\n",
       "      <td>36.28</td>\n",
       "      <td>NaN</td>\n",
       "      <td>NaN</td>\n",
       "      <td>NaN</td>\n",
       "      <td>NaN</td>\n",
       "    </tr>\n",
       "    <tr>\n",
       "      <th>3</th>\n",
       "      <td>ILLINOIS</td>\n",
       "      <td>US1ILJD0002</td>\n",
       "      <td>GALENA 5.7 E, IL US</td>\n",
       "      <td>42.406264</td>\n",
       "      <td>-90.318103</td>\n",
       "      <td>246.9</td>\n",
       "      <td>2016</td>\n",
       "      <td>NaN</td>\n",
       "      <td>41.76</td>\n",
       "      <td>NaN</td>\n",
       "      <td>NaN</td>\n",
       "      <td>NaN</td>\n",
       "      <td>NaN</td>\n",
       "    </tr>\n",
       "    <tr>\n",
       "      <th>4</th>\n",
       "      <td>ILLINOIS</td>\n",
       "      <td>USC00114833</td>\n",
       "      <td>LAKE SPRINGFIELD, IL US</td>\n",
       "      <td>39.757800</td>\n",
       "      <td>-89.604400</td>\n",
       "      <td>177.1</td>\n",
       "      <td>2016</td>\n",
       "      <td>NaN</td>\n",
       "      <td>26.42</td>\n",
       "      <td>NaN</td>\n",
       "      <td>NaN</td>\n",
       "      <td>NaN</td>\n",
       "      <td>NaN</td>\n",
       "    </tr>\n",
       "  </tbody>\n",
       "</table>\n",
       "</div>"
      ],
      "text/plain": [
       "      STATE      STATION                          NAME   LATITUDE  LONGITUDE  \\\n",
       "0  ILLINOIS  USC00114710            KEWANEE 1 E, IL US  41.242900 -89.899700   \n",
       "1  ILLINOIS  US1ILCR0012  MOUNT CARROLL 6.8 NNW, IL US  42.187359 -90.021858   \n",
       "2  ILLINOIS  US1ILCR0013          SHANNON 0.2 S, IL US  42.149816 -89.739925   \n",
       "3  ILLINOIS  US1ILJD0002           GALENA 5.7 E, IL US  42.406264 -90.318103   \n",
       "4  ILLINOIS  USC00114833       LAKE SPRINGFIELD, IL US  39.757800 -89.604400   \n",
       "\n",
       "   ELEVATION  DATE  AWND   PRCP  SNOW  TAVG  TMAX  TMIN  \n",
       "0      237.7  2016   NaN  36.78  21.7  51.1  60.8  41.4  \n",
       "1      198.7  2016   NaN  39.54   NaN   NaN   NaN   NaN  \n",
       "2      286.5  2016   NaN  36.28   NaN   NaN   NaN   NaN  \n",
       "3      246.9  2016   NaN  41.76   NaN   NaN   NaN   NaN  \n",
       "4      177.1  2016   NaN  26.42   NaN   NaN   NaN   NaN  "
      ]
     },
     "execution_count": 6,
     "metadata": {},
     "output_type": "execute_result"
    }
   ],
   "source": [
    "illinois = \"../Project-1---Corn-v.-Weather/Illinois_weather_2016to2018.csv\"\n",
    "illinois_df = pd.read_csv(illinois)\n",
    "illinois_df.head()"
   ]
  },
  {
   "cell_type": "code",
   "execution_count": 7,
   "metadata": {
    "ExecuteTime": {
     "end_time": "2020-01-18T17:07:04.419620Z",
     "start_time": "2020-01-18T17:07:04.395090Z"
    }
   },
   "outputs": [
    {
     "data": {
      "text/html": [
       "<div>\n",
       "<style scoped>\n",
       "    .dataframe tbody tr th:only-of-type {\n",
       "        vertical-align: middle;\n",
       "    }\n",
       "\n",
       "    .dataframe tbody tr th {\n",
       "        vertical-align: top;\n",
       "    }\n",
       "\n",
       "    .dataframe thead th {\n",
       "        text-align: right;\n",
       "    }\n",
       "</style>\n",
       "<table border=\"1\" class=\"dataframe\">\n",
       "  <thead>\n",
       "    <tr style=\"text-align: right;\">\n",
       "      <th></th>\n",
       "      <th>STATE</th>\n",
       "      <th>STATION</th>\n",
       "      <th>NAME</th>\n",
       "      <th>LATITUDE</th>\n",
       "      <th>LONGITUDE</th>\n",
       "      <th>ELEVATION</th>\n",
       "      <th>DATE</th>\n",
       "      <th>AWND</th>\n",
       "      <th>PRCP</th>\n",
       "      <th>SNOW</th>\n",
       "      <th>TAVG</th>\n",
       "      <th>TMAX</th>\n",
       "      <th>TMIN</th>\n",
       "    </tr>\n",
       "  </thead>\n",
       "  <tbody>\n",
       "    <tr>\n",
       "      <th>0</th>\n",
       "      <td>NEBRASKA</td>\n",
       "      <td>US1NELA0004</td>\n",
       "      <td>LINCOLN 3.3 SSE, NE US</td>\n",
       "      <td>40.771517</td>\n",
       "      <td>-96.668918</td>\n",
       "      <td>376.1</td>\n",
       "      <td>2016</td>\n",
       "      <td>NaN</td>\n",
       "      <td>39.23</td>\n",
       "      <td>NaN</td>\n",
       "      <td>NaN</td>\n",
       "      <td>NaN</td>\n",
       "      <td>NaN</td>\n",
       "    </tr>\n",
       "    <tr>\n",
       "      <th>1</th>\n",
       "      <td>NEBRASKA</td>\n",
       "      <td>US1NEBF0001</td>\n",
       "      <td>KEARNEY 1.9 NNE, NE US</td>\n",
       "      <td>40.727248</td>\n",
       "      <td>-99.074249</td>\n",
       "      <td>673.3</td>\n",
       "      <td>2016</td>\n",
       "      <td>NaN</td>\n",
       "      <td>22.96</td>\n",
       "      <td>NaN</td>\n",
       "      <td>NaN</td>\n",
       "      <td>NaN</td>\n",
       "      <td>NaN</td>\n",
       "    </tr>\n",
       "    <tr>\n",
       "      <th>2</th>\n",
       "      <td>NEBRASKA</td>\n",
       "      <td>USC00255780</td>\n",
       "      <td>NAPONEE, NE US</td>\n",
       "      <td>40.078300</td>\n",
       "      <td>-99.138600</td>\n",
       "      <td>577.3</td>\n",
       "      <td>2016</td>\n",
       "      <td>NaN</td>\n",
       "      <td>24.93</td>\n",
       "      <td>18.0</td>\n",
       "      <td>NaN</td>\n",
       "      <td>NaN</td>\n",
       "      <td>NaN</td>\n",
       "    </tr>\n",
       "    <tr>\n",
       "      <th>3</th>\n",
       "      <td>NEBRASKA</td>\n",
       "      <td>USC00251065</td>\n",
       "      <td>BRADSHAW, NE US</td>\n",
       "      <td>40.883600</td>\n",
       "      <td>-97.749100</td>\n",
       "      <td>524.3</td>\n",
       "      <td>2016</td>\n",
       "      <td>NaN</td>\n",
       "      <td>31.21</td>\n",
       "      <td>20.3</td>\n",
       "      <td>NaN</td>\n",
       "      <td>NaN</td>\n",
       "      <td>NaN</td>\n",
       "    </tr>\n",
       "    <tr>\n",
       "      <th>4</th>\n",
       "      <td>NEBRASKA</td>\n",
       "      <td>USC00253365</td>\n",
       "      <td>GOTHENBURG, NE US</td>\n",
       "      <td>40.939400</td>\n",
       "      <td>-100.151300</td>\n",
       "      <td>793.4</td>\n",
       "      <td>2016</td>\n",
       "      <td>NaN</td>\n",
       "      <td>27.69</td>\n",
       "      <td>NaN</td>\n",
       "      <td>52.9</td>\n",
       "      <td>65.7</td>\n",
       "      <td>40.2</td>\n",
       "    </tr>\n",
       "  </tbody>\n",
       "</table>\n",
       "</div>"
      ],
      "text/plain": [
       "      STATE      STATION                    NAME   LATITUDE   LONGITUDE  \\\n",
       "0  NEBRASKA  US1NELA0004  LINCOLN 3.3 SSE, NE US  40.771517  -96.668918   \n",
       "1  NEBRASKA  US1NEBF0001  KEARNEY 1.9 NNE, NE US  40.727248  -99.074249   \n",
       "2  NEBRASKA  USC00255780          NAPONEE, NE US  40.078300  -99.138600   \n",
       "3  NEBRASKA  USC00251065         BRADSHAW, NE US  40.883600  -97.749100   \n",
       "4  NEBRASKA  USC00253365       GOTHENBURG, NE US  40.939400 -100.151300   \n",
       "\n",
       "   ELEVATION  DATE  AWND   PRCP  SNOW  TAVG  TMAX  TMIN  \n",
       "0      376.1  2016   NaN  39.23   NaN   NaN   NaN   NaN  \n",
       "1      673.3  2016   NaN  22.96   NaN   NaN   NaN   NaN  \n",
       "2      577.3  2016   NaN  24.93  18.0   NaN   NaN   NaN  \n",
       "3      524.3  2016   NaN  31.21  20.3   NaN   NaN   NaN  \n",
       "4      793.4  2016   NaN  27.69   NaN  52.9  65.7  40.2  "
      ]
     },
     "execution_count": 7,
     "metadata": {},
     "output_type": "execute_result"
    }
   ],
   "source": [
    "nebraska = \"../Project-1---Corn-v.-Weather/Nebraska_weather_2016to2018.csv\"\n",
    "nebraska_df = pd.read_csv(nebraska)\n",
    "nebraska_df.head()"
   ]
  },
  {
   "cell_type": "code",
   "execution_count": 8,
   "metadata": {
    "ExecuteTime": {
     "end_time": "2020-01-18T17:07:04.434386Z",
     "start_time": "2020-01-18T17:07:04.424395Z"
    }
   },
   "outputs": [],
   "source": [
    "state_combined = pd.concat([indiana_df, iowa_df, nebraska_df, illinois_df])"
   ]
  },
  {
   "cell_type": "code",
   "execution_count": 9,
   "metadata": {
    "ExecuteTime": {
     "end_time": "2020-01-18T17:07:04.450757Z",
     "start_time": "2020-01-18T17:07:04.437654Z"
    }
   },
   "outputs": [
    {
     "data": {
      "text/plain": [
       "STATE        3507\n",
       "STATION      3507\n",
       "NAME         3507\n",
       "LATITUDE     3507\n",
       "LONGITUDE    3507\n",
       "ELEVATION    3507\n",
       "DATE         3507\n",
       "AWND          226\n",
       "PRCP         3296\n",
       "SNOW         1680\n",
       "TAVG         1508\n",
       "TMAX         1547\n",
       "TMIN         1528\n",
       "dtype: int64"
      ]
     },
     "execution_count": 9,
     "metadata": {},
     "output_type": "execute_result"
    }
   ],
   "source": [
    "state_combined.count()"
   ]
  },
  {
   "cell_type": "code",
   "execution_count": 10,
   "metadata": {
    "ExecuteTime": {
     "end_time": "2020-01-18T17:07:04.472575Z",
     "start_time": "2020-01-18T17:07:04.452872Z"
    }
   },
   "outputs": [
    {
     "data": {
      "text/html": [
       "<div>\n",
       "<style scoped>\n",
       "    .dataframe tbody tr th:only-of-type {\n",
       "        vertical-align: middle;\n",
       "    }\n",
       "\n",
       "    .dataframe tbody tr th {\n",
       "        vertical-align: top;\n",
       "    }\n",
       "\n",
       "    .dataframe thead th {\n",
       "        text-align: right;\n",
       "    }\n",
       "</style>\n",
       "<table border=\"1\" class=\"dataframe\">\n",
       "  <thead>\n",
       "    <tr style=\"text-align: right;\">\n",
       "      <th></th>\n",
       "      <th>STATE</th>\n",
       "      <th>DATE</th>\n",
       "      <th>ELEVATION</th>\n",
       "      <th>PRCP</th>\n",
       "      <th>SNOW</th>\n",
       "      <th>TAVG</th>\n",
       "      <th>TMAX</th>\n",
       "      <th>TMIN</th>\n",
       "    </tr>\n",
       "  </thead>\n",
       "  <tbody>\n",
       "    <tr>\n",
       "      <th>0</th>\n",
       "      <td>INDIANA</td>\n",
       "      <td>2016</td>\n",
       "      <td>194.8</td>\n",
       "      <td>44.81</td>\n",
       "      <td>NaN</td>\n",
       "      <td>NaN</td>\n",
       "      <td>NaN</td>\n",
       "      <td>NaN</td>\n",
       "    </tr>\n",
       "    <tr>\n",
       "      <th>1</th>\n",
       "      <td>INDIANA</td>\n",
       "      <td>2016</td>\n",
       "      <td>235.6</td>\n",
       "      <td>46.65</td>\n",
       "      <td>84.1</td>\n",
       "      <td>51.2</td>\n",
       "      <td>60.5</td>\n",
       "      <td>41.8</td>\n",
       "    </tr>\n",
       "    <tr>\n",
       "      <th>2</th>\n",
       "      <td>INDIANA</td>\n",
       "      <td>2016</td>\n",
       "      <td>193.5</td>\n",
       "      <td>52.42</td>\n",
       "      <td>NaN</td>\n",
       "      <td>57.1</td>\n",
       "      <td>66.4</td>\n",
       "      <td>47.8</td>\n",
       "    </tr>\n",
       "    <tr>\n",
       "      <th>3</th>\n",
       "      <td>INDIANA</td>\n",
       "      <td>2016</td>\n",
       "      <td>294.4</td>\n",
       "      <td>40.25</td>\n",
       "      <td>15.3</td>\n",
       "      <td>NaN</td>\n",
       "      <td>NaN</td>\n",
       "      <td>NaN</td>\n",
       "    </tr>\n",
       "    <tr>\n",
       "      <th>4</th>\n",
       "      <td>INDIANA</td>\n",
       "      <td>2016</td>\n",
       "      <td>202.7</td>\n",
       "      <td>46.48</td>\n",
       "      <td>NaN</td>\n",
       "      <td>52.0</td>\n",
       "      <td>61.8</td>\n",
       "      <td>42.1</td>\n",
       "    </tr>\n",
       "  </tbody>\n",
       "</table>\n",
       "</div>"
      ],
      "text/plain": [
       "     STATE  DATE  ELEVATION   PRCP  SNOW  TAVG  TMAX  TMIN\n",
       "0  INDIANA  2016      194.8  44.81   NaN   NaN   NaN   NaN\n",
       "1  INDIANA  2016      235.6  46.65  84.1  51.2  60.5  41.8\n",
       "2  INDIANA  2016      193.5  52.42   NaN  57.1  66.4  47.8\n",
       "3  INDIANA  2016      294.4  40.25  15.3   NaN   NaN   NaN\n",
       "4  INDIANA  2016      202.7  46.48   NaN  52.0  61.8  42.1"
      ]
     },
     "execution_count": 10,
     "metadata": {},
     "output_type": "execute_result"
    }
   ],
   "source": [
    "state_combined_df = state_combined[[\"STATE\", \"DATE\", \"ELEVATION\", \"PRCP\", \"SNOW\", \"TAVG\", \"TMAX\", \"TMIN\"]]\n",
    "state_combined_df.head()"
   ]
  },
  {
   "cell_type": "code",
   "execution_count": 11,
   "metadata": {
    "ExecuteTime": {
     "end_time": "2020-01-18T17:07:04.484338Z",
     "start_time": "2020-01-18T17:07:04.474569Z"
    }
   },
   "outputs": [],
   "source": [
    "state_combined_df = state_combined_df.dropna()"
   ]
  },
  {
   "cell_type": "code",
   "execution_count": 12,
   "metadata": {
    "ExecuteTime": {
     "end_time": "2020-01-18T17:07:04.500922Z",
     "start_time": "2020-01-18T17:07:04.484338Z"
    },
    "scrolled": true
   },
   "outputs": [
    {
     "data": {
      "text/html": [
       "<div>\n",
       "<style scoped>\n",
       "    .dataframe tbody tr th:only-of-type {\n",
       "        vertical-align: middle;\n",
       "    }\n",
       "\n",
       "    .dataframe tbody tr th {\n",
       "        vertical-align: top;\n",
       "    }\n",
       "\n",
       "    .dataframe thead th {\n",
       "        text-align: right;\n",
       "    }\n",
       "</style>\n",
       "<table border=\"1\" class=\"dataframe\">\n",
       "  <thead>\n",
       "    <tr style=\"text-align: right;\">\n",
       "      <th></th>\n",
       "      <th>STATE</th>\n",
       "      <th>DATE</th>\n",
       "      <th>ELEVATION</th>\n",
       "      <th>PRCP</th>\n",
       "      <th>SNOW</th>\n",
       "      <th>TAVG</th>\n",
       "      <th>TMAX</th>\n",
       "      <th>TMIN</th>\n",
       "    </tr>\n",
       "  </thead>\n",
       "  <tbody>\n",
       "    <tr>\n",
       "      <th>1</th>\n",
       "      <td>INDIANA</td>\n",
       "      <td>2016</td>\n",
       "      <td>235.6</td>\n",
       "      <td>46.65</td>\n",
       "      <td>84.1</td>\n",
       "      <td>51.2</td>\n",
       "      <td>60.5</td>\n",
       "      <td>41.8</td>\n",
       "    </tr>\n",
       "    <tr>\n",
       "      <th>20</th>\n",
       "      <td>INDIANA</td>\n",
       "      <td>2016</td>\n",
       "      <td>266.7</td>\n",
       "      <td>38.98</td>\n",
       "      <td>56.7</td>\n",
       "      <td>52.1</td>\n",
       "      <td>61.6</td>\n",
       "      <td>42.6</td>\n",
       "    </tr>\n",
       "    <tr>\n",
       "      <th>22</th>\n",
       "      <td>INDIANA</td>\n",
       "      <td>2016</td>\n",
       "      <td>215.8</td>\n",
       "      <td>36.49</td>\n",
       "      <td>19.3</td>\n",
       "      <td>52.6</td>\n",
       "      <td>62.3</td>\n",
       "      <td>43.0</td>\n",
       "    </tr>\n",
       "    <tr>\n",
       "      <th>23</th>\n",
       "      <td>INDIANA</td>\n",
       "      <td>2016</td>\n",
       "      <td>241.1</td>\n",
       "      <td>37.41</td>\n",
       "      <td>27.3</td>\n",
       "      <td>52.9</td>\n",
       "      <td>62.5</td>\n",
       "      <td>43.2</td>\n",
       "    </tr>\n",
       "    <tr>\n",
       "      <th>29</th>\n",
       "      <td>INDIANA</td>\n",
       "      <td>2016</td>\n",
       "      <td>302.1</td>\n",
       "      <td>40.83</td>\n",
       "      <td>15.0</td>\n",
       "      <td>52.4</td>\n",
       "      <td>62.9</td>\n",
       "      <td>41.8</td>\n",
       "    </tr>\n",
       "  </tbody>\n",
       "</table>\n",
       "</div>"
      ],
      "text/plain": [
       "      STATE  DATE  ELEVATION   PRCP  SNOW  TAVG  TMAX  TMIN\n",
       "1   INDIANA  2016      235.6  46.65  84.1  51.2  60.5  41.8\n",
       "20  INDIANA  2016      266.7  38.98  56.7  52.1  61.6  42.6\n",
       "22  INDIANA  2016      215.8  36.49  19.3  52.6  62.3  43.0\n",
       "23  INDIANA  2016      241.1  37.41  27.3  52.9  62.5  43.2\n",
       "29  INDIANA  2016      302.1  40.83  15.0  52.4  62.9  41.8"
      ]
     },
     "execution_count": 12,
     "metadata": {},
     "output_type": "execute_result"
    }
   ],
   "source": [
    "state_combined_df.head()"
   ]
  },
  {
   "cell_type": "code",
   "execution_count": 13,
   "metadata": {
    "ExecuteTime": {
     "end_time": "2020-01-18T17:07:04.512177Z",
     "start_time": "2020-01-18T17:07:04.503470Z"
    }
   },
   "outputs": [
    {
     "data": {
      "text/plain": [
       "STATE        1025\n",
       "DATE         1025\n",
       "ELEVATION    1025\n",
       "PRCP         1025\n",
       "SNOW         1025\n",
       "TAVG         1025\n",
       "TMAX         1025\n",
       "TMIN         1025\n",
       "dtype: int64"
      ]
     },
     "execution_count": 13,
     "metadata": {},
     "output_type": "execute_result"
    }
   ],
   "source": [
    "state_combined_df.count()"
   ]
  },
  {
   "cell_type": "code",
   "execution_count": 14,
   "metadata": {
    "ExecuteTime": {
     "end_time": "2020-01-18T17:07:04.520769Z",
     "start_time": "2020-01-18T17:07:04.514262Z"
    }
   },
   "outputs": [],
   "source": [
    "state_weather = state_combined_df.groupby(['STATE', 'DATE']).mean()"
   ]
  },
  {
   "cell_type": "code",
   "execution_count": 15,
   "metadata": {
    "ExecuteTime": {
     "end_time": "2020-01-18T17:07:04.540255Z",
     "start_time": "2020-01-18T17:07:04.522093Z"
    }
   },
   "outputs": [
    {
     "data": {
      "text/html": [
       "<div>\n",
       "<style scoped>\n",
       "    .dataframe tbody tr th:only-of-type {\n",
       "        vertical-align: middle;\n",
       "    }\n",
       "\n",
       "    .dataframe tbody tr th {\n",
       "        vertical-align: top;\n",
       "    }\n",
       "\n",
       "    .dataframe thead th {\n",
       "        text-align: right;\n",
       "    }\n",
       "</style>\n",
       "<table border=\"1\" class=\"dataframe\">\n",
       "  <thead>\n",
       "    <tr style=\"text-align: right;\">\n",
       "      <th></th>\n",
       "      <th></th>\n",
       "      <th>ELEVATION</th>\n",
       "      <th>PRCP</th>\n",
       "      <th>SNOW</th>\n",
       "      <th>TAVG</th>\n",
       "      <th>TMAX</th>\n",
       "      <th>TMIN</th>\n",
       "    </tr>\n",
       "    <tr>\n",
       "      <th>STATE</th>\n",
       "      <th>DATE</th>\n",
       "      <th></th>\n",
       "      <th></th>\n",
       "      <th></th>\n",
       "      <th></th>\n",
       "      <th></th>\n",
       "      <th></th>\n",
       "    </tr>\n",
       "  </thead>\n",
       "  <tbody>\n",
       "    <tr>\n",
       "      <th rowspan=\"3\" valign=\"top\">ILLINOIS</th>\n",
       "      <th>2016</th>\n",
       "      <td>201.290244</td>\n",
       "      <td>38.936098</td>\n",
       "      <td>17.380488</td>\n",
       "      <td>53.543902</td>\n",
       "      <td>63.104878</td>\n",
       "      <td>43.980488</td>\n",
       "    </tr>\n",
       "    <tr>\n",
       "      <th>2017</th>\n",
       "      <td>199.600000</td>\n",
       "      <td>37.517667</td>\n",
       "      <td>9.750000</td>\n",
       "      <td>53.351667</td>\n",
       "      <td>63.758333</td>\n",
       "      <td>42.945000</td>\n",
       "    </tr>\n",
       "    <tr>\n",
       "      <th>2018</th>\n",
       "      <td>201.947458</td>\n",
       "      <td>45.618305</td>\n",
       "      <td>26.445763</td>\n",
       "      <td>51.120339</td>\n",
       "      <td>60.940678</td>\n",
       "      <td>41.300000</td>\n",
       "    </tr>\n",
       "    <tr>\n",
       "      <th rowspan=\"2\" valign=\"top\">INDIANA</th>\n",
       "      <th>2016</th>\n",
       "      <td>226.884000</td>\n",
       "      <td>43.821600</td>\n",
       "      <td>22.730000</td>\n",
       "      <td>53.620000</td>\n",
       "      <td>63.512000</td>\n",
       "      <td>43.740000</td>\n",
       "    </tr>\n",
       "    <tr>\n",
       "      <th>2017</th>\n",
       "      <td>232.743636</td>\n",
       "      <td>46.641091</td>\n",
       "      <td>13.647273</td>\n",
       "      <td>53.160000</td>\n",
       "      <td>63.154545</td>\n",
       "      <td>43.165455</td>\n",
       "    </tr>\n",
       "  </tbody>\n",
       "</table>\n",
       "</div>"
      ],
      "text/plain": [
       "                ELEVATION       PRCP       SNOW       TAVG       TMAX  \\\n",
       "STATE    DATE                                                           \n",
       "ILLINOIS 2016  201.290244  38.936098  17.380488  53.543902  63.104878   \n",
       "         2017  199.600000  37.517667   9.750000  53.351667  63.758333   \n",
       "         2018  201.947458  45.618305  26.445763  51.120339  60.940678   \n",
       "INDIANA  2016  226.884000  43.821600  22.730000  53.620000  63.512000   \n",
       "         2017  232.743636  46.641091  13.647273  53.160000  63.154545   \n",
       "\n",
       "                    TMIN  \n",
       "STATE    DATE             \n",
       "ILLINOIS 2016  43.980488  \n",
       "         2017  42.945000  \n",
       "         2018  41.300000  \n",
       "INDIANA  2016  43.740000  \n",
       "         2017  43.165455  "
      ]
     },
     "execution_count": 15,
     "metadata": {},
     "output_type": "execute_result"
    }
   ],
   "source": [
    "state_weather.head()"
   ]
  },
  {
   "cell_type": "code",
   "execution_count": 16,
   "metadata": {
    "ExecuteTime": {
     "end_time": "2020-01-18T17:07:04.565179Z",
     "start_time": "2020-01-18T17:07:04.542795Z"
    }
   },
   "outputs": [],
   "source": [
    "#state_combined_df.set_index(\"STATE\",\"DATE\")"
   ]
  },
  {
   "cell_type": "code",
   "execution_count": 17,
   "metadata": {
    "ExecuteTime": {
     "end_time": "2020-01-18T17:07:04.573543Z",
     "start_time": "2020-01-18T17:07:04.567587Z"
    }
   },
   "outputs": [],
   "source": [
    "# state_combined_df.dtypes"
   ]
  },
  {
   "cell_type": "code",
   "execution_count": 18,
   "metadata": {
    "ExecuteTime": {
     "end_time": "2020-01-18T17:07:04.608724Z",
     "start_time": "2020-01-18T17:07:04.575930Z"
    }
   },
   "outputs": [
    {
     "data": {
      "text/html": [
       "<div>\n",
       "<style scoped>\n",
       "    .dataframe tbody tr th:only-of-type {\n",
       "        vertical-align: middle;\n",
       "    }\n",
       "\n",
       "    .dataframe tbody tr th {\n",
       "        vertical-align: top;\n",
       "    }\n",
       "\n",
       "    .dataframe thead th {\n",
       "        text-align: right;\n",
       "    }\n",
       "</style>\n",
       "<table border=\"1\" class=\"dataframe\">\n",
       "  <thead>\n",
       "    <tr style=\"text-align: right;\">\n",
       "      <th></th>\n",
       "      <th>Program</th>\n",
       "      <th>DATE</th>\n",
       "      <th>Period</th>\n",
       "      <th>Week Ending</th>\n",
       "      <th>Geo Level</th>\n",
       "      <th>STATE</th>\n",
       "      <th>State ANSI</th>\n",
       "      <th>Ag District</th>\n",
       "      <th>Ag District Code</th>\n",
       "      <th>County</th>\n",
       "      <th>County ANSI</th>\n",
       "      <th>Zip Code</th>\n",
       "      <th>Region</th>\n",
       "      <th>watershed_code</th>\n",
       "      <th>Watershed</th>\n",
       "      <th>Commodity</th>\n",
       "      <th>Domain</th>\n",
       "      <th>PRICE RECEIVED -- $ / BU</th>\n",
       "      <th>CV (%)</th>\n",
       "    </tr>\n",
       "  </thead>\n",
       "  <tbody>\n",
       "    <tr>\n",
       "      <th>0</th>\n",
       "      <td>SURVEY</td>\n",
       "      <td>2018</td>\n",
       "      <td>MARKETING YEAR</td>\n",
       "      <td>NaN</td>\n",
       "      <td>STATE</td>\n",
       "      <td>ALABAMA</td>\n",
       "      <td>1</td>\n",
       "      <td>NaN</td>\n",
       "      <td>NaN</td>\n",
       "      <td>NaN</td>\n",
       "      <td>NaN</td>\n",
       "      <td>NaN</td>\n",
       "      <td>NaN</td>\n",
       "      <td>0</td>\n",
       "      <td>NaN</td>\n",
       "      <td>CORN</td>\n",
       "      <td>TOTAL</td>\n",
       "      <td>4.11</td>\n",
       "      <td>NaN</td>\n",
       "    </tr>\n",
       "    <tr>\n",
       "      <th>1</th>\n",
       "      <td>SURVEY</td>\n",
       "      <td>2018</td>\n",
       "      <td>MARKETING YEAR</td>\n",
       "      <td>NaN</td>\n",
       "      <td>STATE</td>\n",
       "      <td>ALASKA</td>\n",
       "      <td>2</td>\n",
       "      <td>NaN</td>\n",
       "      <td>NaN</td>\n",
       "      <td>NaN</td>\n",
       "      <td>NaN</td>\n",
       "      <td>NaN</td>\n",
       "      <td>NaN</td>\n",
       "      <td>0</td>\n",
       "      <td>NaN</td>\n",
       "      <td>CORN</td>\n",
       "      <td>TOTAL</td>\n",
       "      <td>NaN</td>\n",
       "      <td>NaN</td>\n",
       "    </tr>\n",
       "    <tr>\n",
       "      <th>2</th>\n",
       "      <td>SURVEY</td>\n",
       "      <td>2018</td>\n",
       "      <td>MARKETING YEAR</td>\n",
       "      <td>NaN</td>\n",
       "      <td>STATE</td>\n",
       "      <td>ARIZONA</td>\n",
       "      <td>4</td>\n",
       "      <td>NaN</td>\n",
       "      <td>NaN</td>\n",
       "      <td>NaN</td>\n",
       "      <td>NaN</td>\n",
       "      <td>NaN</td>\n",
       "      <td>NaN</td>\n",
       "      <td>0</td>\n",
       "      <td>NaN</td>\n",
       "      <td>CORN</td>\n",
       "      <td>TOTAL</td>\n",
       "      <td>4.96</td>\n",
       "      <td>NaN</td>\n",
       "    </tr>\n",
       "    <tr>\n",
       "      <th>3</th>\n",
       "      <td>SURVEY</td>\n",
       "      <td>2018</td>\n",
       "      <td>MARKETING YEAR</td>\n",
       "      <td>NaN</td>\n",
       "      <td>STATE</td>\n",
       "      <td>ARKANSAS</td>\n",
       "      <td>5</td>\n",
       "      <td>NaN</td>\n",
       "      <td>NaN</td>\n",
       "      <td>NaN</td>\n",
       "      <td>NaN</td>\n",
       "      <td>NaN</td>\n",
       "      <td>NaN</td>\n",
       "      <td>0</td>\n",
       "      <td>NaN</td>\n",
       "      <td>CORN</td>\n",
       "      <td>TOTAL</td>\n",
       "      <td>3.80</td>\n",
       "      <td>NaN</td>\n",
       "    </tr>\n",
       "    <tr>\n",
       "      <th>4</th>\n",
       "      <td>SURVEY</td>\n",
       "      <td>2018</td>\n",
       "      <td>MARKETING YEAR</td>\n",
       "      <td>NaN</td>\n",
       "      <td>STATE</td>\n",
       "      <td>CALIFORNIA</td>\n",
       "      <td>6</td>\n",
       "      <td>NaN</td>\n",
       "      <td>NaN</td>\n",
       "      <td>NaN</td>\n",
       "      <td>NaN</td>\n",
       "      <td>NaN</td>\n",
       "      <td>NaN</td>\n",
       "      <td>0</td>\n",
       "      <td>NaN</td>\n",
       "      <td>CORN</td>\n",
       "      <td>TOTAL</td>\n",
       "      <td>4.40</td>\n",
       "      <td>NaN</td>\n",
       "    </tr>\n",
       "  </tbody>\n",
       "</table>\n",
       "</div>"
      ],
      "text/plain": [
       "  Program  DATE          Period  Week Ending Geo Level       STATE  \\\n",
       "0  SURVEY  2018  MARKETING YEAR          NaN     STATE     ALABAMA   \n",
       "1  SURVEY  2018  MARKETING YEAR          NaN     STATE      ALASKA   \n",
       "2  SURVEY  2018  MARKETING YEAR          NaN     STATE     ARIZONA   \n",
       "3  SURVEY  2018  MARKETING YEAR          NaN     STATE    ARKANSAS   \n",
       "4  SURVEY  2018  MARKETING YEAR          NaN     STATE  CALIFORNIA   \n",
       "\n",
       "   State ANSI  Ag District  Ag District Code  County  County ANSI  Zip Code  \\\n",
       "0           1          NaN               NaN     NaN          NaN       NaN   \n",
       "1           2          NaN               NaN     NaN          NaN       NaN   \n",
       "2           4          NaN               NaN     NaN          NaN       NaN   \n",
       "3           5          NaN               NaN     NaN          NaN       NaN   \n",
       "4           6          NaN               NaN     NaN          NaN       NaN   \n",
       "\n",
       "   Region  watershed_code  Watershed Commodity Domain  \\\n",
       "0     NaN               0        NaN      CORN  TOTAL   \n",
       "1     NaN               0        NaN      CORN  TOTAL   \n",
       "2     NaN               0        NaN      CORN  TOTAL   \n",
       "3     NaN               0        NaN      CORN  TOTAL   \n",
       "4     NaN               0        NaN      CORN  TOTAL   \n",
       "\n",
       "   PRICE RECEIVED -- $ / BU  CV (%)  \n",
       "0                      4.11     NaN  \n",
       "1                       NaN     NaN  \n",
       "2                      4.96     NaN  \n",
       "3                      3.80     NaN  \n",
       "4                      4.40     NaN  "
      ]
     },
     "execution_count": 18,
     "metadata": {},
     "output_type": "execute_result"
    }
   ],
   "source": [
    "corn_price = \"../Project-1---Corn-v.-Weather/Corn_price_2016to2018.csv\"\n",
    "corn_price_df = pd.read_csv(corn_price)\n",
    "corn_price_df.head()"
   ]
  },
  {
   "cell_type": "code",
   "execution_count": 19,
   "metadata": {
    "ExecuteTime": {
     "end_time": "2020-01-18T17:07:04.625039Z",
     "start_time": "2020-01-18T17:07:04.609719Z"
    }
   },
   "outputs": [
    {
     "data": {
      "text/html": [
       "<div>\n",
       "<style scoped>\n",
       "    .dataframe tbody tr th:only-of-type {\n",
       "        vertical-align: middle;\n",
       "    }\n",
       "\n",
       "    .dataframe tbody tr th {\n",
       "        vertical-align: top;\n",
       "    }\n",
       "\n",
       "    .dataframe thead th {\n",
       "        text-align: right;\n",
       "    }\n",
       "</style>\n",
       "<table border=\"1\" class=\"dataframe\">\n",
       "  <thead>\n",
       "    <tr style=\"text-align: right;\">\n",
       "      <th></th>\n",
       "      <th>STATE</th>\n",
       "      <th>DATE</th>\n",
       "      <th>PRICE RECEIVED -- $ / BU</th>\n",
       "    </tr>\n",
       "  </thead>\n",
       "  <tbody>\n",
       "    <tr>\n",
       "      <th>0</th>\n",
       "      <td>ALABAMA</td>\n",
       "      <td>2018</td>\n",
       "      <td>4.11</td>\n",
       "    </tr>\n",
       "    <tr>\n",
       "      <th>1</th>\n",
       "      <td>ALASKA</td>\n",
       "      <td>2018</td>\n",
       "      <td>NaN</td>\n",
       "    </tr>\n",
       "    <tr>\n",
       "      <th>2</th>\n",
       "      <td>ARIZONA</td>\n",
       "      <td>2018</td>\n",
       "      <td>4.96</td>\n",
       "    </tr>\n",
       "    <tr>\n",
       "      <th>3</th>\n",
       "      <td>ARKANSAS</td>\n",
       "      <td>2018</td>\n",
       "      <td>3.80</td>\n",
       "    </tr>\n",
       "    <tr>\n",
       "      <th>4</th>\n",
       "      <td>CALIFORNIA</td>\n",
       "      <td>2018</td>\n",
       "      <td>4.40</td>\n",
       "    </tr>\n",
       "  </tbody>\n",
       "</table>\n",
       "</div>"
      ],
      "text/plain": [
       "        STATE  DATE  PRICE RECEIVED -- $ / BU\n",
       "0     ALABAMA  2018                      4.11\n",
       "1      ALASKA  2018                       NaN\n",
       "2     ARIZONA  2018                      4.96\n",
       "3    ARKANSAS  2018                      3.80\n",
       "4  CALIFORNIA  2018                      4.40"
      ]
     },
     "execution_count": 19,
     "metadata": {},
     "output_type": "execute_result"
    }
   ],
   "source": [
    "corn_price_pd = corn_price_df[[\"STATE\",\"DATE\",\"PRICE RECEIVED -- $ / BU\"]]\n",
    "corn_price_pd.head()"
   ]
  },
  {
   "cell_type": "code",
   "execution_count": 20,
   "metadata": {
    "ExecuteTime": {
     "end_time": "2020-01-18T17:07:04.632748Z",
     "start_time": "2020-01-18T17:07:04.626004Z"
    }
   },
   "outputs": [],
   "source": [
    "corn_price_pd = corn_price_pd.dropna()"
   ]
  },
  {
   "cell_type": "code",
   "execution_count": 21,
   "metadata": {
    "ExecuteTime": {
     "end_time": "2020-01-18T17:07:04.650090Z",
     "start_time": "2020-01-18T17:07:04.634824Z"
    }
   },
   "outputs": [
    {
     "data": {
      "text/html": [
       "<div>\n",
       "<style scoped>\n",
       "    .dataframe tbody tr th:only-of-type {\n",
       "        vertical-align: middle;\n",
       "    }\n",
       "\n",
       "    .dataframe tbody tr th {\n",
       "        vertical-align: top;\n",
       "    }\n",
       "\n",
       "    .dataframe thead th {\n",
       "        text-align: right;\n",
       "    }\n",
       "</style>\n",
       "<table border=\"1\" class=\"dataframe\">\n",
       "  <thead>\n",
       "    <tr style=\"text-align: right;\">\n",
       "      <th></th>\n",
       "      <th>STATE</th>\n",
       "      <th>DATE</th>\n",
       "      <th>PRICE RECEIVED -- $ / BU</th>\n",
       "    </tr>\n",
       "  </thead>\n",
       "  <tbody>\n",
       "    <tr>\n",
       "      <th>0</th>\n",
       "      <td>ALABAMA</td>\n",
       "      <td>2018</td>\n",
       "      <td>4.11</td>\n",
       "    </tr>\n",
       "    <tr>\n",
       "      <th>2</th>\n",
       "      <td>ARIZONA</td>\n",
       "      <td>2018</td>\n",
       "      <td>4.96</td>\n",
       "    </tr>\n",
       "    <tr>\n",
       "      <th>3</th>\n",
       "      <td>ARKANSAS</td>\n",
       "      <td>2018</td>\n",
       "      <td>3.80</td>\n",
       "    </tr>\n",
       "    <tr>\n",
       "      <th>4</th>\n",
       "      <td>CALIFORNIA</td>\n",
       "      <td>2018</td>\n",
       "      <td>4.40</td>\n",
       "    </tr>\n",
       "    <tr>\n",
       "      <th>5</th>\n",
       "      <td>COLORADO</td>\n",
       "      <td>2018</td>\n",
       "      <td>3.70</td>\n",
       "    </tr>\n",
       "  </tbody>\n",
       "</table>\n",
       "</div>"
      ],
      "text/plain": [
       "        STATE  DATE  PRICE RECEIVED -- $ / BU\n",
       "0     ALABAMA  2018                      4.11\n",
       "2     ARIZONA  2018                      4.96\n",
       "3    ARKANSAS  2018                      3.80\n",
       "4  CALIFORNIA  2018                      4.40\n",
       "5    COLORADO  2018                      3.70"
      ]
     },
     "execution_count": 21,
     "metadata": {},
     "output_type": "execute_result"
    }
   ],
   "source": [
    "corn_price_pd.head()"
   ]
  },
  {
   "cell_type": "code",
   "execution_count": 22,
   "metadata": {
    "ExecuteTime": {
     "end_time": "2020-01-18T17:07:04.657874Z",
     "start_time": "2020-01-18T17:07:04.651089Z"
    }
   },
   "outputs": [],
   "source": [
    "#corn_price_pd['STATE'] = corn_price_pd['STATE'].astype(str)"
   ]
  },
  {
   "cell_type": "code",
   "execution_count": 23,
   "metadata": {
    "ExecuteTime": {
     "end_time": "2020-01-18T17:07:04.671013Z",
     "start_time": "2020-01-18T17:07:04.663636Z"
    }
   },
   "outputs": [
    {
     "data": {
      "text/plain": [
       "STATE                        object\n",
       "DATE                          int64\n",
       "PRICE RECEIVED -- $ / BU    float64\n",
       "dtype: object"
      ]
     },
     "execution_count": 23,
     "metadata": {},
     "output_type": "execute_result"
    }
   ],
   "source": [
    "corn_price_pd.dtypes"
   ]
  },
  {
   "cell_type": "code",
   "execution_count": 24,
   "metadata": {
    "ExecuteTime": {
     "end_time": "2020-01-18T17:07:04.678935Z",
     "start_time": "2020-01-18T17:07:04.674388Z"
    }
   },
   "outputs": [],
   "source": [
    "#corn_price_pd.set_index(\"STATE\",\"DATE\")"
   ]
  },
  {
   "cell_type": "code",
   "execution_count": 25,
   "metadata": {
    "ExecuteTime": {
     "end_time": "2020-01-18T17:07:04.686763Z",
     "start_time": "2020-01-18T17:07:04.679932Z"
    }
   },
   "outputs": [],
   "source": [
    "# corn_df = state_weather.append(corn_price_pd, ignore_index=True,sort=False)\n",
    "# corn_df.head()"
   ]
  },
  {
   "cell_type": "code",
   "execution_count": 26,
   "metadata": {
    "ExecuteTime": {
     "end_time": "2020-01-18T17:07:04.859061Z",
     "start_time": "2020-01-18T17:07:04.688031Z"
    }
   },
   "outputs": [
    {
     "ename": "ValueError",
     "evalue": "You are trying to merge on object and int64 columns. If you wish to proceed you should use pd.concat",
     "output_type": "error",
     "traceback": [
      "\u001b[1;31m---------------------------------------------------------------------------\u001b[0m",
      "\u001b[1;31mValueError\u001b[0m                                Traceback (most recent call last)",
      "\u001b[1;32m<ipython-input-26-d08f254fb016>\u001b[0m in \u001b[0;36m<module>\u001b[1;34m\u001b[0m\n\u001b[1;32m----> 1\u001b[1;33m \u001b[0mcorn_df\u001b[0m \u001b[1;33m=\u001b[0m \u001b[0mpd\u001b[0m\u001b[1;33m.\u001b[0m\u001b[0mmerge\u001b[0m\u001b[1;33m(\u001b[0m\u001b[0mstate_weather\u001b[0m\u001b[1;33m,\u001b[0m\u001b[0mcorn_price_pd\u001b[0m \u001b[1;33m[\u001b[0m\u001b[1;33m[\u001b[0m\u001b[1;34m\"STATE\"\u001b[0m\u001b[1;33m,\u001b[0m\u001b[1;34m\"DATE\"\u001b[0m\u001b[1;33m]\u001b[0m\u001b[1;33m]\u001b[0m\u001b[1;33m,\u001b[0m  \u001b[0mhow\u001b[0m\u001b[1;33m=\u001b[0m\u001b[1;34m'left'\u001b[0m\u001b[1;33m,\u001b[0m \u001b[0mleft_on\u001b[0m\u001b[1;33m=\u001b[0m\u001b[1;33m[\u001b[0m\u001b[1;34m'STATE'\u001b[0m\u001b[1;33m]\u001b[0m\u001b[1;33m,\u001b[0m \u001b[0mright_on\u001b[0m\u001b[1;33m=\u001b[0m\u001b[1;33m[\u001b[0m\u001b[1;34m\"DATE\"\u001b[0m\u001b[1;33m]\u001b[0m\u001b[1;33m)\u001b[0m\u001b[1;33m\u001b[0m\u001b[1;33m\u001b[0m\u001b[0m\n\u001b[0m",
      "\u001b[1;32m~\\AppData\\Local\\Continuum\\anaconda3\\envs\\PythonData\\lib\\site-packages\\pandas\\core\\reshape\\merge.py\u001b[0m in \u001b[0;36mmerge\u001b[1;34m(left, right, how, on, left_on, right_on, left_index, right_index, sort, suffixes, copy, indicator, validate)\u001b[0m\n\u001b[0;32m     79\u001b[0m         \u001b[0mcopy\u001b[0m\u001b[1;33m=\u001b[0m\u001b[0mcopy\u001b[0m\u001b[1;33m,\u001b[0m\u001b[1;33m\u001b[0m\u001b[1;33m\u001b[0m\u001b[0m\n\u001b[0;32m     80\u001b[0m         \u001b[0mindicator\u001b[0m\u001b[1;33m=\u001b[0m\u001b[0mindicator\u001b[0m\u001b[1;33m,\u001b[0m\u001b[1;33m\u001b[0m\u001b[1;33m\u001b[0m\u001b[0m\n\u001b[1;32m---> 81\u001b[1;33m         \u001b[0mvalidate\u001b[0m\u001b[1;33m=\u001b[0m\u001b[0mvalidate\u001b[0m\u001b[1;33m,\u001b[0m\u001b[1;33m\u001b[0m\u001b[1;33m\u001b[0m\u001b[0m\n\u001b[0m\u001b[0;32m     82\u001b[0m     )\n\u001b[0;32m     83\u001b[0m     \u001b[1;32mreturn\u001b[0m \u001b[0mop\u001b[0m\u001b[1;33m.\u001b[0m\u001b[0mget_result\u001b[0m\u001b[1;33m(\u001b[0m\u001b[1;33m)\u001b[0m\u001b[1;33m\u001b[0m\u001b[1;33m\u001b[0m\u001b[0m\n",
      "\u001b[1;32m~\\AppData\\Local\\Continuum\\anaconda3\\envs\\PythonData\\lib\\site-packages\\pandas\\core\\reshape\\merge.py\u001b[0m in \u001b[0;36m__init__\u001b[1;34m(self, left, right, how, on, left_on, right_on, axis, left_index, right_index, sort, suffixes, copy, indicator, validate)\u001b[0m\n\u001b[0;32m    628\u001b[0m         \u001b[1;31m# validate the merge keys dtypes. We may need to coerce\u001b[0m\u001b[1;33m\u001b[0m\u001b[1;33m\u001b[0m\u001b[1;33m\u001b[0m\u001b[0m\n\u001b[0;32m    629\u001b[0m         \u001b[1;31m# to avoid incompat dtypes\u001b[0m\u001b[1;33m\u001b[0m\u001b[1;33m\u001b[0m\u001b[1;33m\u001b[0m\u001b[0m\n\u001b[1;32m--> 630\u001b[1;33m         \u001b[0mself\u001b[0m\u001b[1;33m.\u001b[0m\u001b[0m_maybe_coerce_merge_keys\u001b[0m\u001b[1;33m(\u001b[0m\u001b[1;33m)\u001b[0m\u001b[1;33m\u001b[0m\u001b[1;33m\u001b[0m\u001b[0m\n\u001b[0m\u001b[0;32m    631\u001b[0m \u001b[1;33m\u001b[0m\u001b[0m\n\u001b[0;32m    632\u001b[0m         \u001b[1;31m# If argument passed to validate,\u001b[0m\u001b[1;33m\u001b[0m\u001b[1;33m\u001b[0m\u001b[1;33m\u001b[0m\u001b[0m\n",
      "\u001b[1;32m~\\AppData\\Local\\Continuum\\anaconda3\\envs\\PythonData\\lib\\site-packages\\pandas\\core\\reshape\\merge.py\u001b[0m in \u001b[0;36m_maybe_coerce_merge_keys\u001b[1;34m(self)\u001b[0m\n\u001b[0;32m   1136\u001b[0m                     \u001b[0minferred_right\u001b[0m \u001b[1;32min\u001b[0m \u001b[0mstring_types\u001b[0m \u001b[1;32mand\u001b[0m \u001b[0minferred_left\u001b[0m \u001b[1;32mnot\u001b[0m \u001b[1;32min\u001b[0m \u001b[0mstring_types\u001b[0m\u001b[1;33m\u001b[0m\u001b[1;33m\u001b[0m\u001b[0m\n\u001b[0;32m   1137\u001b[0m                 ):\n\u001b[1;32m-> 1138\u001b[1;33m                     \u001b[1;32mraise\u001b[0m \u001b[0mValueError\u001b[0m\u001b[1;33m(\u001b[0m\u001b[0mmsg\u001b[0m\u001b[1;33m)\u001b[0m\u001b[1;33m\u001b[0m\u001b[1;33m\u001b[0m\u001b[0m\n\u001b[0m\u001b[0;32m   1139\u001b[0m \u001b[1;33m\u001b[0m\u001b[0m\n\u001b[0;32m   1140\u001b[0m             \u001b[1;31m# datetimelikes must match exactly\u001b[0m\u001b[1;33m\u001b[0m\u001b[1;33m\u001b[0m\u001b[1;33m\u001b[0m\u001b[0m\n",
      "\u001b[1;31mValueError\u001b[0m: You are trying to merge on object and int64 columns. If you wish to proceed you should use pd.concat"
     ]
    }
   ],
   "source": [
    "corn_df = pd.merge(state_weather,corn_price_pd [[\"STATE\",\"DATE\"]],  how='left', left_on=['STATE'], right_on=[\"DATE\"])"
   ]
  },
  {
   "cell_type": "code",
   "execution_count": null,
   "metadata": {},
   "outputs": [],
   "source": []
  }
 ],
 "metadata": {
  "kernelspec": {
   "display_name": "Python 3",
   "language": "python",
   "name": "python3"
  },
  "language_info": {
   "codemirror_mode": {
    "name": "ipython",
    "version": 3
   },
   "file_extension": ".py",
   "mimetype": "text/x-python",
   "name": "python",
   "nbconvert_exporter": "python",
   "pygments_lexer": "ipython3",
   "version": "3.6.9"
  },
  "varInspector": {
   "cols": {
    "lenName": 16,
    "lenType": 16,
    "lenVar": 40
   },
   "kernels_config": {
    "python": {
     "delete_cmd_postfix": "",
     "delete_cmd_prefix": "del ",
     "library": "var_list.py",
     "varRefreshCmd": "print(var_dic_list())"
    },
    "r": {
     "delete_cmd_postfix": ") ",
     "delete_cmd_prefix": "rm(",
     "library": "var_list.r",
     "varRefreshCmd": "cat(var_dic_list()) "
    }
   },
   "types_to_exclude": [
    "module",
    "function",
    "builtin_function_or_method",
    "instance",
    "_Feature"
   ],
   "window_display": false
  }
 },
 "nbformat": 4,
 "nbformat_minor": 2
}
