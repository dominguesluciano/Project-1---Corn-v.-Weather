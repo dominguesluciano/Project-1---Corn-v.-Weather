{
 "cells": [
  {
   "cell_type": "code",
   "execution_count": null,
   "metadata": {
    "ExecuteTime": {
     "start_time": "2020-01-15T02:32:53.096Z"
    }
   },
   "outputs": [],
   "source": [
    "import pandas as pd\n",
    "import numpy as np\n",
    "import os\n",
    "import matplotlib.pyplot as plt\n",
    "import requests\n",
    "import json\n",
    "from api_key import api_key\n",
    "from itertools import islice"
   ]
  },
  {
   "cell_type": "code",
   "execution_count": null,
   "metadata": {
    "ExecuteTime": {
     "start_time": "2020-01-15T02:32:55.024Z"
    }
   },
   "outputs": [],
   "source": [
    "geobase = \"../Project-1---Corn-v.-Weather/us-zip-code-latitude-and-longitude.csv\"\n",
    "geobase_df = pd.read_csv(geobase)\n",
    "geobase_df.head()\n"
   ]
  },
  {
   "cell_type": "code",
   "execution_count": null,
   "metadata": {
    "ExecuteTime": {
     "start_time": "2020-01-15T02:31:16.573Z"
    },
    "scrolled": false
   },
   "outputs": [],
   "source": [
    "geobase_df.to_csv(\"../Project-1---Corn-v.-Weather/geobase.csv\")"
   ]
  },
  {
   "cell_type": "code",
   "execution_count": null,
   "metadata": {
    "ExecuteTime": {
     "start_time": "2020-01-15T02:31:16.575Z"
    }
   },
   "outputs": [],
   "source": [
    "%load api_key.py\n"
   ]
  },
  {
   "cell_type": "code",
   "execution_count": null,
   "metadata": {
    "ExecuteTime": {
     "start_time": "2020-01-15T02:31:16.578Z"
    }
   },
   "outputs": [],
   "source": [
    "url = \"http://history.openweathermap.org/data/2.5/history?\""
   ]
  },
  {
   "cell_type": "code",
   "execution_count": null,
   "metadata": {
    "ExecuteTime": {
     "start_time": "2020-01-15T02:31:16.584Z"
    }
   },
   "outputs": [],
   "source": [
    "Latitude = geobase_df[\"Latitude\"].to_list()\n",
    "Longitude = geobase_df[\"Longitude\"].to_list()\n",
    "Longitude"
   ]
  },
  {
   "cell_type": "code",
   "execution_count": null,
   "metadata": {
    "ExecuteTime": {
     "start_time": "2020-01-15T02:28:45.461Z"
    }
   },
   "outputs": [
    {
     "name": "stderr",
     "output_type": "stream",
     "text": [
      "IOPub data rate exceeded.\n",
      "The notebook server will temporarily stop sending output\n",
      "to the client in order to avoid crashing it.\n",
      "To change this limit, set the config variable\n",
      "`--NotebookApp.iopub_data_rate_limit`.\n",
      "\n",
      "Current values:\n",
      "NotebookApp.iopub_data_rate_limit=1000000.0 (bytes/sec)\n",
      "NotebookApp.rate_limit_window=3.0 (secs)\n",
      "\n"
     ]
    }
   ],
   "source": [
    "limit = 10\n",
    "url = \"http://history.openweathermap.org/data/2.5/history/\"\n",
    "units = \"imperial\"\n",
    "Latitude = geobase_df[\"Latitude\"].to_list()\n",
    "Longitude = geobase_df[\"Longitude\"].to_list()\n",
    "query_url = f\"{url}appid={api_key}&units={units}&lat={Latitude}&lon={Longitude}\"\n",
    "\n",
    "#Set values\n",
    "\n",
    "humidity = []\n",
    "max_temp = []\n",
    "weather_type = []\n",
    "\n",
    "\n",
    "\n",
    "for lat,lon in zip(Latitude,Longitude):\n",
    "#for row in enumerate(geobase_df[:20]): \n",
    "    try:\n",
    "        #response = requests.get(query_url).json()\n",
    "        #humidity.append(response[\"main\"][\"humidity\"])\n",
    "        #max_temp.append(response[\"main\"][\"temp_max\"])\n",
    "        #weather_type.append(response[\"weather\"][\"main\"])\n",
    "        print(url+query_url)\n",
    "       \n",
    "                \n",
    "       \n",
    "    \n",
    "    except:\n",
    "        print(\"City not found.  Skipping...\")\n",
    "    \n",
    "    continue"
   ]
  },
  {
   "cell_type": "code",
   "execution_count": null,
   "metadata": {
    "ExecuteTime": {
     "end_time": "2020-01-15T01:54:48.136657Z",
     "start_time": "2020-01-15T01:54:48.130313Z"
    }
   },
   "outputs": [],
   "source": [
    "humidity"
   ]
  },
  {
   "cell_type": "code",
   "execution_count": null,
   "metadata": {
    "ExecuteTime": {
     "end_time": "2020-01-15T00:58:44.302150Z",
     "start_time": "2020-01-15T00:58:44.067449Z"
    }
   },
   "outputs": [],
   "source": [
    "for index, row in geobase_df.iterrows():\n",
    "    geobase_df.loc[index, \"state\"] = json_data[0][\"state\"]"
   ]
  },
  {
   "cell_type": "code",
   "execution_count": null,
   "metadata": {
    "ExecuteTime": {
     "end_time": "2020-01-15T00:58:00.178303Z",
     "start_time": "2020-01-15T00:58:00.157362Z"
    }
   },
   "outputs": [],
   "source": [
    "geobase_df.head()"
   ]
  },
  {
   "cell_type": "code",
   "execution_count": null,
   "metadata": {},
   "outputs": [],
   "source": []
  }
 ],
 "metadata": {
  "kernelspec": {
   "display_name": "Python 3",
   "language": "python",
   "name": "python3"
  },
  "language_info": {
   "codemirror_mode": {
    "name": "ipython",
    "version": 3
   },
   "file_extension": ".py",
   "mimetype": "text/x-python",
   "name": "python",
   "nbconvert_exporter": "python",
   "pygments_lexer": "ipython3",
   "version": "3.6.9"
  },
  "varInspector": {
   "cols": {
    "lenName": 16,
    "lenType": 16,
    "lenVar": 40
   },
   "kernels_config": {
    "python": {
     "delete_cmd_postfix": "",
     "delete_cmd_prefix": "del ",
     "library": "var_list.py",
     "varRefreshCmd": "print(var_dic_list())"
    },
    "r": {
     "delete_cmd_postfix": ") ",
     "delete_cmd_prefix": "rm(",
     "library": "var_list.r",
     "varRefreshCmd": "cat(var_dic_list()) "
    }
   },
   "types_to_exclude": [
    "module",
    "function",
    "builtin_function_or_method",
    "instance",
    "_Feature"
   ],
   "window_display": false
  }
 },
 "nbformat": 4,
 "nbformat_minor": 2
}
